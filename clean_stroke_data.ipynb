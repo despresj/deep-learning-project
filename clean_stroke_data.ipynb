{
  "cells": [
    {
      "cell_type": "markdown",
      "metadata": {
        "id": "E4WaCc1ytMm4"
      },
      "source": [
        "# Data Cleaning\n",
        "We may have to come back to this."
      ]
    },
    {
      "cell_type": "code",
      "execution_count": 1,
      "metadata": {
        "colab": {
          "base_uri": "https://localhost:8080/"
        },
        "id": "UJPSvH7E5Yad",
        "outputId": "bed21f14-a3a0-4293-a388-5b8621a75b76"
      },
      "outputs": [
        {
          "name": "stdout",
          "output_type": "stream",
          "text": [
            "zsh:1: command not found: nvidia-smi\n"
          ]
        }
      ],
      "source": [
        "!nvidia-smi -L"
      ]
    },
    {
      "cell_type": "code",
      "execution_count": 6,
      "metadata": {
        "id": "xH4XLwXa5dA2"
      },
      "outputs": [
        {
          "ename": "ModuleNotFoundError",
          "evalue": "No module named 'google.colab'",
          "output_type": "error",
          "traceback": [
            "\u001b[0;31m---------------------------------------------------------------------------\u001b[0m",
            "\u001b[0;31mModuleNotFoundError\u001b[0m                       Traceback (most recent call last)",
            "\u001b[0;32m/var/folders/0n/gp39qxl100149ccbr1n65kzh0000gn/T/ipykernel_38603/3141755265.py\u001b[0m in \u001b[0;36m<module>\u001b[0;34m\u001b[0m\n\u001b[0;32m----> 1\u001b[0;31m \u001b[0;32mfrom\u001b[0m \u001b[0mgoogle\u001b[0m\u001b[0;34m.\u001b[0m\u001b[0mcolab\u001b[0m \u001b[0;32mimport\u001b[0m \u001b[0mdrive\u001b[0m\u001b[0;34m\u001b[0m\u001b[0;34m\u001b[0m\u001b[0m\n\u001b[0m\u001b[1;32m      2\u001b[0m \u001b[0;31m# drive.mount('/content/drive')\u001b[0m\u001b[0;34m\u001b[0m\u001b[0;34m\u001b[0m\u001b[0m\n",
            "\u001b[0;31mModuleNotFoundError\u001b[0m: No module named 'google.colab'"
          ]
        }
      ],
      "source": [
        "from google.colab import drive\n",
        "# drive.mount('/content/drive')"
      ]
    },
    {
      "cell_type": "code",
      "execution_count": 7,
      "metadata": {
        "id": "KFNL4e7g6EsQ"
      },
      "outputs": [],
      "source": [
        "import pandas as pd\n",
        "import numpy as np"
      ]
    },
    {
      "cell_type": "code",
      "execution_count": 9,
      "metadata": {
        "id": "Yv5ocmcWDjD7"
      },
      "outputs": [],
      "source": [
        "if 'google.colab' in str(get_ipython()):\n",
        "  proj_dir = \"/content/drive/MyDrive/ece884_project/\"\n",
        "else:\n",
        "  proj_dir = \"\"\n",
        "df = pd.read_csv(f\"{proj_dir}data_raw/ist.csv\", low_memory=False)"
      ]
    },
    {
      "cell_type": "markdown",
      "metadata": {
        "id": "syMFuaL68bax"
      },
      "source": [
        "Using the [stroke dataset](https://trialsjournal.biomedcentral.com/articles/10.1186/1745-6215-12-101#MOESM1) we want to use these data to generate additioal samples. For a data dictionary see [the paper](https://www.researchgate.net/publication/51068185_The_International_Stroke_Trial_database)."
      ]
    },
    {
      "cell_type": "code",
      "execution_count": 88,
      "metadata": {
        "id": "-50rd6_B5uYK"
      },
      "outputs": [],
      "source": [
        "df.columns = [x.lower() for x in df.columns]"
      ]
    },
    {
      "cell_type": "code",
      "execution_count": 89,
      "metadata": {
        "id": "oa4T6Em56Ce9"
      },
      "outputs": [],
      "source": [
        "df = df.applymap(lambda x: x.lower() if type(x) == str else x)\n",
        "df = df.apply(lambda x: x.replace(to_replace=['n', 'y'], value=[0, 1]))\n",
        "df = df.apply(lambda x: x.replace(to_replace=['c', 'u', 'unknown'], value=np.nan))"
      ]
    },
    {
      "cell_type": "markdown",
      "metadata": {
        "id": "lcx0yBye6vCZ"
      },
      "source": [
        "I am KNN inputing missing for contnous valued columns, then replacing with 0 the dummy variables."
      ]
    },
    {
      "cell_type": "code",
      "execution_count": 90,
      "metadata": {
        "id": "XR9LGl-sSeAV"
      },
      "outputs": [],
      "source": [
        "df['sex'] = df.sex.replace(to_replace=['f', 'm'], value=[0, 1])\n",
        "dummy_cols = ['rconsc', 'stype', 'rxhep', 'dmajnchx', 'dplace', 'fplace', 'nccode', 'country']\n",
        "dummy_df = pd.get_dummies(df[dummy_cols])\n",
        "dummy_df = dummy_df.fillna(0, inplace=True)"
      ]
    },
    {
      "cell_type": "code",
      "execution_count": 91,
      "metadata": {
        "id": "ZS02ueCVDGVp"
      },
      "outputs": [],
      "source": [
        "df = df.apply(pd.to_numeric, errors='coerce')\n",
        "numeric_df = df.drop(columns=dummy_cols)\n",
        "misc_drop = [\"rdate\", \"dsidex\", \"dnostrkx\", \"drshd\", \"ddeadx\", \"fdeadx\"] # these are not helpful and causing problems"
      ]
    },
    {
      "cell_type": "code",
      "execution_count": 92,
      "metadata": {
        "id": "u5hxnVsRD05f"
      },
      "outputs": [],
      "source": [
        "from sklearn.impute import KNNImputer\n",
        "imputer = KNNImputer(n_neighbors=5)"
      ]
    },
    {
      "cell_type": "code",
      "execution_count": 93,
      "metadata": {
        "id": "QsXvIfW5CbRs"
      },
      "outputs": [],
      "source": [
        "numeric_df = numeric_df.drop(columns=misc_drop)\n",
        "numeric_df = pd.DataFrame(imputer.fit_transform(numeric_df),columns = numeric_df.columns)\n",
        "df = pd.concat([numeric_df, dummy_df])"
      ]
    },
    {
      "cell_type": "code",
      "execution_count": 94,
      "metadata": {
        "id": "knH-d_HFspEO"
      },
      "outputs": [],
      "source": [
        "df.to_csv(f\"{proj_dir}data_clean/clean.csv\", index=False)"
      ]
    }
  ],
  "metadata": {
    "accelerator": "GPU",
    "colab": {
      "background_execution": "on",
      "collapsed_sections": [],
      "machine_shape": "hm",
      "name": "clean_stroke_data.ipynb",
      "provenance": []
    },
    "kernelspec": {
      "display_name": "Python 3",
      "name": "python3"
    },
    "language_info": {
      "codemirror_mode": {
        "name": "ipython",
        "version": 3
      },
      "file_extension": ".py",
      "mimetype": "text/x-python",
      "name": "python",
      "nbconvert_exporter": "python",
      "pygments_lexer": "ipython3",
      "version": "3.9.9"
    }
  },
  "nbformat": 4,
  "nbformat_minor": 0
}
