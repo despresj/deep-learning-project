{
 "cells": [
  {
   "cell_type": "code",
   "execution_count": 25,
   "metadata": {},
   "outputs": [],
   "source": [
    "import pandas as pd\n",
    "import numpy as np"
   ]
  },
  {
   "cell_type": "markdown",
   "metadata": {},
   "source": [
    "https://www.ncei.noaa.gov/pub/data/uscrn/products/daily01/"
   ]
  },
  {
   "cell_type": "code",
   "execution_count": 35,
   "metadata": {},
   "outputs": [],
   "source": [
    "df[\"utc_datetime\"] = df.utc_date.astype(str) + \"-\" + df.utc_time.astype(str).apply(lambda x: x.zfill(3))\n",
    "df[\"utc_datetime\"] = pd.to_datetime(df.utc_datetime, format='%Y%m%d-%H%M')\n",
    "df['ymd'] = df.utc_datetime.dt.year.astype(str) + \"-\" + df.utc_datetime.dt.month.astype(str) + \"-\" + df.utc_datetime.dt.day.astype(str)"
   ]
  },
  {
   "cell_type": "code",
   "execution_count": 36,
   "metadata": {},
   "outputs": [],
   "source": [
    "tempature_date = df[[\"utc_datetime\", \"air_temperature\", \"ymd\"]].copy()\n",
    "tempature_date.set_index(\"utc_datetime\", inplace=True)\n",
    "tempature_date.sort_values(\"utc_datetime\",inplace=True)"
   ]
  },
  {
   "cell_type": "code",
   "execution_count": 37,
   "metadata": {},
   "outputs": [],
   "source": [
    "import matplotlib.pyplot as plt\n",
    "from matplotlib.dates import DateFormatter"
   ]
  },
  {
   "cell_type": "code",
   "execution_count": 47,
   "metadata": {},
   "outputs": [],
   "source": [
    "\n",
    "temp = tempature_date.air_temperature\n",
    "\n",
    "def hampel(x,k, t0=3):\n",
    "    '''\n",
    "    I just pasted this for a \n",
    "    quick outlier detection and replacement\n",
    "    \n",
    "    '''\n",
    "    n = len(x)\n",
    "    y = x #y is the corrected series\n",
    "    L = 1.4826\n",
    "    for i in range((k + 1),(n - k)):\n",
    "        if np.isnan(x[(i - k):(i + k+1)]).all():\n",
    "            continue\n",
    "        x0 = np.nanmedian(x[(i - k):(i + k+1)])\n",
    "        S0 = L * np.nanmedian(np.abs(x[(i - k):(i + k+1)] - x0))\n",
    "        if (np.abs(x[i] - x0) > t0 * S0):\n",
    "            y.loc[i] = x0\n",
    "            print(y.dtype)\n",
    "    return(y)\n",
    "\n",
    "tempature_date[\"air_temperature\"] = hampel(temp, k=6)"
   ]
  },
  {
   "cell_type": "code",
   "execution_count": 48,
   "metadata": {},
   "outputs": [],
   "source": [
    "for day in tempature_date.ymd.unique():\n",
    "    tmp = tempature_date[tempature_date.ymd == day]\n",
    "    figure = plt.figure(figsize=(7.195, 7.195), dpi=100)\n",
    "    ax = figure.add_subplot(1, 1, 1)\n",
    "    ax.plot(tmp.index, tmp.air_temperature, 'black')\n",
    "    ax.xaxis.set_major_formatter( DateFormatter('%H:%M') )\n",
    "    plt.axis('off')\n",
    "    plt.savefig(f\"pics/{day}.png\", dpi=100)\n",
    "    plt.close()\n",
    "    # plt.show()\n",
    "    "
   ]
  },
  {
   "cell_type": "code",
   "execution_count": 49,
   "metadata": {},
   "outputs": [
    {
     "data": {
      "image/png": "[encoded data removed]",
      "text/plain": [
       "<Figure size 432x288 with 1 Axes>"
      ]
     },
     "metadata": {
      "needs_background": "light"
     },
     "output_type": "display_data"
    }
   ],
   "source": [
    "from PIL import Image\n",
    "pic = Image.open(f\"pics/2022-1-1.png\").convert('L')\n",
    "pic = np.asarray(pic)\n",
    "plt.imshow(pic)\n",
    "plt.show()"
   ]
  },
  {
   "cell_type": "code",
   "execution_count": 50,
   "metadata": {},
   "outputs": [],
   "source": [
    "import os\n",
    "pic_files = os.listdir(\"pics\")\n",
    "pic_array = np.zeros((719, 719, len(pic_files)))"
   ]
  },
  {
   "cell_type": "code",
   "execution_count": 51,
   "metadata": {},
   "outputs": [],
   "source": [
    "for i, pic_file in enumerate(pic_files):\n",
    "    tmp_pic = Image.open(f\"pics/{pic_file}\").convert('L')\n",
    "    pic_array[:, :, i] = np.asarray(tmp_pic)"
   ]
  },
  {
   "cell_type": "code",
   "execution_count": 53,
   "metadata": {},
   "outputs": [
    {
     "data": {
      "text/plain": [
       "(719, 719, 17)"
      ]
     },
     "execution_count": 53,
     "metadata": {},
     "output_type": "execute_result"
    }
   ],
   "source": [
    "pic_array.shape"
   ]
  },
  {
   "cell_type": "markdown",
   "metadata": {},
   "source": [
    "im wondering if we can 100,000 or so of these...."
   ]
  }
 ],
 "metadata": {
  "interpreter": {
   "hash": "46adb795152d5db59f955a662f1f645c8cf39f91042255151212cfaad4a46d3d"
  },
  "kernelspec": {
   "display_name": "Python 3.9.8 64-bit ('my_env': venv)",
   "language": "python",
   "name": "python3"
  },
  "language_info": {
   "codemirror_mode": {
    "name": "ipython",
    "version": 3
   },
   "file_extension": ".py",
   "mimetype": "text/x-python",
   "name": "python",
   "nbconvert_exporter": "python",
   "pygments_lexer": "ipython3",
   "version": "3.9.9"
  },
  "orig_nbformat": 4
 },
 "nbformat": 4,
 "nbformat_minor": 2
}
